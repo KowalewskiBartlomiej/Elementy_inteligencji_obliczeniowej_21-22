{
  "nbformat": 4,
  "nbformat_minor": 0,
  "metadata": {
    "colab": {
      "provenance": []
    },
    "kernelspec": {
      "name": "python3",
      "display_name": "Python 3"
    },
    "accelerator": "GPU",
    "gpuClass": "standard"
  },
  "cells": [
    {
      "cell_type": "markdown",
      "metadata": {
        "id": "ebvqJaNU9bkH"
      },
      "source": [
        "# Elementy Inteligencji Obliczeniowej - Sieci Neuronowe\n",
        "\n",
        "\n",
        "---\n",
        "\n",
        "**Prowadzący:** Jakub Bednarek<br>\n",
        "**Kontakt:** jakub.bednarek@put.poznan.pl<br>\n",
        "**Materiały:** [Strona WWW](http://jakub.bednarek.pracownik.put.poznan.pl)\n",
        "\n",
        "---"
      ]
    },
    {
      "cell_type": "markdown",
      "metadata": {
        "id": "i0tVMrm99g5w"
      },
      "source": [
        "## Uwaga\n",
        "\n",
        "* **Aby wykonać polecenia należy najpierw przejść do trybu 'playground'. File -> Open in Playground Mode**\n",
        "* Nowe funkcje Colab pozwalają na autouzupełnianie oraz czytanie dokumentacji"
      ]
    },
    {
      "cell_type": "markdown",
      "metadata": {
        "id": "Wlq47LA0BuBB"
      },
      "source": [
        "## Cel ćwiczeń:\n",
        "- zapoznanie się z Keras subclassing API\n",
        "- stworzenie własnych modeli i warstw z wykorzystaniem Keras subclassing API\n",
        "- wykorzystanie podstawowych mechanizmów regularyzacji: Dropout i Batch normalization"
      ]
    },
    {
      "cell_type": "code",
      "metadata": {
        "id": "SxLU8paIDmUe",
        "colab": {
          "base_uri": "https://localhost:8080/"
        },
        "outputId": "1b5a4606-0258-4600-b3ea-fa8526847df0"
      },
      "source": [
        "%tensorflow_version 2.x\n",
        "\n",
        "import tensorflow as tf\n",
        "import numpy as np"
      ],
      "execution_count": 16,
      "outputs": [
        {
          "output_type": "stream",
          "name": "stdout",
          "text": [
            "Colab only includes TensorFlow 2.x; %tensorflow_version has no effect.\n"
          ]
        }
      ]
    },
    {
      "cell_type": "code",
      "metadata": {
        "id": "scL5_bHTD-M7"
      },
      "source": [
        "from tensorflow.keras.datasets import mnist\n",
        "from tensorflow.keras.models import Sequential, Model\n",
        "from tensorflow.keras.layers import Dense, Dropout, Flatten, BatchNormalization, Conv2D, MaxPooling2D, Layer\n",
        "from tensorflow.keras.utils import to_categorical\n",
        "from tensorflow.keras.losses import categorical_crossentropy, mse\n",
        "from tensorflow.keras.optimizers import Adadelta, RMSprop\n",
        "from tensorflow.python.keras import backend as K\n"
      ],
      "execution_count": 17,
      "outputs": []
    },
    {
      "cell_type": "code",
      "metadata": {
        "id": "wV_u-YBWEJ8X"
      },
      "source": [
        "(x_train, y_train), (x_test, y_test) = mnist.load_data()\n",
        "\n",
        "\n",
        "x_train = x_train[:, :, :, np.newaxis].astype('float32')\n",
        "x_test = x_test[:, :, :, np.newaxis].astype('float32')\n",
        "x_train /= 255\n",
        "x_test /= 255\n",
        "\n",
        "# x_train = x_train.reshape(60000, 784)\n",
        "# x_test = x_test.reshape(10000, 784)\n",
        "\n",
        "x_train_reshaped = x_train.reshape(60000, 784)\n",
        "x_test_reshaped = x_test.reshape(10000, 784)\n",
        "\n",
        "y_train = to_categorical(y_train, 10)\n",
        "y_test = to_categorical(y_test, 10)"
      ],
      "execution_count": 22,
      "outputs": []
    },
    {
      "cell_type": "markdown",
      "metadata": {
        "id": "ppmDSGoyFuJ9"
      },
      "source": [
        "## Tworzenie własnych modeli i warstw \n",
        "https://www.tensorflow.org/tutorials/customization/custom_layers\n",
        "\n",
        "https://www.tensorflow.org/guide/keras/custom_layers_and_models\n",
        "\n",
        "Przykładowy model z warstwami gęstymi dla danych MNIST:"
      ]
    },
    {
      "cell_type": "code",
      "metadata": {
        "id": "ViqotGlHGy9t"
      },
      "source": [
        "class DenseModel(Model):\n",
        "\n",
        "  def __init__(self, num_classes=10):\n",
        "    super(DenseModel, self).__init__(name='my_model')\n",
        "    self.num_classes = num_classes\n",
        "    # Define your layers here.\n",
        "    self.dense_1 = Dense(512, input_shape=(784,), activation='relu')\n",
        "    self.dense_2 = Dense(512, activation='relu')\n",
        "    self.dense_3 = Dense(num_classes, activation='softmax')\n",
        "\n",
        "  def call(self, inputs):\n",
        "    # Define your forward pass here,\n",
        "    # using layers you previously defined (in `__init__`).\n",
        "    x = self.dense_1(inputs)\n",
        "    x = self.dense_2(x)\n",
        "    return self.dense_3(x)\n",
        "\n",
        "model = DenseModel(num_classes=10)"
      ],
      "execution_count": 19,
      "outputs": []
    },
    {
      "cell_type": "code",
      "metadata": {
        "id": "jFs-QBFtEp0s",
        "colab": {
          "base_uri": "https://localhost:8080/"
        },
        "outputId": "6faca927-9f45-4fa6-e324-a6298de316d4"
      },
      "source": [
        "model.compile(optimizer=RMSprop(),\n",
        "              loss='categorical_crossentropy',\n",
        "              metrics=['accuracy'])\n",
        "\n",
        "model.fit(x_train, y_train, batch_size=32, epochs=3)"
      ],
      "execution_count": 20,
      "outputs": [
        {
          "output_type": "stream",
          "name": "stdout",
          "text": [
            "Epoch 1/3\n",
            "1875/1875 [==============================] - 6s 3ms/step - loss: 0.1911 - accuracy: 0.9426\n",
            "Epoch 2/3\n",
            "1875/1875 [==============================] - 6s 3ms/step - loss: 0.1029 - accuracy: 0.9734\n",
            "Epoch 3/3\n",
            "1875/1875 [==============================] - 6s 3ms/step - loss: 0.0857 - accuracy: 0.9786\n"
          ]
        },
        {
          "output_type": "execute_result",
          "data": {
            "text/plain": [
              "<keras.callbacks.History at 0x7fb4842373d0>"
            ]
          },
          "metadata": {},
          "execution_count": 20
        }
      ]
    },
    {
      "cell_type": "markdown",
      "metadata": {
        "id": "axZWFRVEyPv7"
      },
      "source": [
        "Przykład własnej warstwy. Warstwa to po prostu funkcjonalny moduł do wielokrotnego używania, podczas gdy model to gotowe rozwiązanie dla danego problemu uczenia maszynowego (tzn. w Kerasie zazwyczaj kompletna sieć neuronowa), które udostępnia dodatkowo takie metody jak `fit`, `evaluate` i `predict`. Oczywiście można też budować modele/warstwy korzystające z innych modeli/warstw, API obu tych klas jest bardzo podobne.\n",
        "\n",
        "W poniższym kodzie, metoda `build` w `CustomLayer` jest wołana raz przed pierwszym wywołaniem `call` (zaimplementowane jest to w `__call__()`), co pozwala nam uzależnić liczbę wag warstwy od wymiaru wyjść z warstwy poprzedniej. Jeżeli odgórnie wiemy, ile wag ma mieć warstwa, to równie dobrze możemy je zainicjować w `__init__` tak jak wcześniej."
      ]
    },
    {
      "cell_type": "code",
      "metadata": {
        "id": "NxVJBabOxkQS",
        "colab": {
          "base_uri": "https://localhost:8080/"
        },
        "outputId": "2b898d56-8e7e-467c-80ee-e8c368a40f40"
      },
      "source": [
        "class CustomLayer(Layer):\n",
        "\n",
        "    def __init__(self, output_dim, **kwargs):\n",
        "        self.output_dim = output_dim\n",
        "        super(CustomLayer, self).__init__(**kwargs)\n",
        "\n",
        "    def build(self, input_shape):\n",
        "        # Create a trainable weight variable for this layer.\n",
        "        self.kernel = self.add_weight(name='kernel',\n",
        "                                      shape=(int(input_shape[1]), self.output_dim),\n",
        "                                      initializer='uniform',\n",
        "                                      trainable=True)\n",
        "\n",
        "    def call(self, inputs):\n",
        "        return tf.matmul(inputs, self.kernel)\n",
        "\n",
        "\n",
        "class CustomModel(Model):\n",
        "\n",
        "    def __init__(self, num_classes=10):\n",
        "        super(CustomModel, self).__init__(name='custom_model')\n",
        "        self.num_classes = num_classes\n",
        "        # Define your layers here.\n",
        "        self.dense_1 = CustomLayer(output_dim=512, input_shape=(784,))\n",
        "        self.dense_2 = CustomLayer(output_dim=512, input_shape=(512,))\n",
        "        self.dense_3 = CustomLayer(output_dim=num_classes, input_shape=(512,))\n",
        "\n",
        "    def call(self, inputs):\n",
        "        # Define your forward pass here,\n",
        "        # using layers you previously defined (in `__init__`).\n",
        "        x = self.dense_1(inputs)\n",
        "        x = K.relu(x)\n",
        "        x = self.dense_2(x)\n",
        "        x = K.relu(x)\n",
        "        x = self.dense_3(x)\n",
        "        x = K.sigmoid(x)\n",
        "        return x\n",
        "\n",
        "model = CustomModel(num_classes=10)\n",
        "\n",
        "model.compile(optimizer=RMSprop(),\n",
        "              loss='categorical_crossentropy',\n",
        "              metrics=['accuracy'])\n",
        "\n",
        "\n",
        "model.fit(x_train, y_train, batch_size=128, epochs=3)"
      ],
      "execution_count": 21,
      "outputs": [
        {
          "output_type": "stream",
          "name": "stdout",
          "text": [
            "Epoch 1/3\n",
            "469/469 [==============================] - 2s 3ms/step - loss: 0.2842 - accuracy: 0.9141\n",
            "Epoch 2/3\n",
            "469/469 [==============================] - 2s 4ms/step - loss: 0.0961 - accuracy: 0.9711\n",
            "Epoch 3/3\n",
            "469/469 [==============================] - 2s 3ms/step - loss: 0.0644 - accuracy: 0.9802\n"
          ]
        },
        {
          "output_type": "execute_result",
          "data": {
            "text/plain": [
              "<keras.callbacks.History at 0x7fb40278e310>"
            ]
          },
          "metadata": {},
          "execution_count": 21
        }
      ]
    },
    {
      "cell_type": "markdown",
      "metadata": {
        "id": "ZgtZzVYg1361"
      },
      "source": [
        "### Zadanie 1\n",
        "Na podstawie powyższego przykładu stwórz własny model kolejno składający się z:\n",
        "- warstwy konwolucyjnej (Conv2D): 32 filtry 3x3,\n",
        "- konwolucyjnej: 64 filtry 3x3,\n",
        "- warstwy MaxPooling (MaxPooling2D): 2x2\n",
        "- warstwy ukrytej gęstej (Dense): 128 neuronów,\n",
        "- warstwy wyjściowej.\n",
        "\n",
        "Ważne:\n",
        "- w każdej warstwie poza warstwą wyjściową funkcją aktywacji powinno być relu,\n",
        "- funkcja aktywacji dla warstwy wyjściowej to softmax,\n",
        "- między częścią konwolucyjną a gęstą trzeba spłaszczyć tensor przy pomocy warstwy `Flatten`,\n",
        "- w przykładzie jest wykorzystywana sieć gęsta (dane są spłaszczone), sieci z warstwami konwolucyjnymi muszą otrzymać tensor 4-wymiarowy, zakomentuj linie \"spłaszczające\" podczas wczytywania danych.\n",
        "```\n",
        "x_train = x_train.reshape(60000, 784)\n",
        "x_test = x_test.reshape(10000, 784)\n",
        "```"
      ]
    },
    {
      "cell_type": "code",
      "metadata": {
        "id": "MSJUzxAc15uZ",
        "colab": {
          "base_uri": "https://localhost:8080/"
        },
        "outputId": "9b3b8827-4b8b-47b9-84a3-de929de68738"
      },
      "source": [
        "class MyModel(Model):\n",
        "\n",
        "    def __init__(self, num_classes=10):\n",
        "        super(MyModel, self).__init__(name='my_model')\n",
        "        self.num_classes = num_classes\n",
        "        self.conv1 = Conv2D(32, (3, 3), activation = 'relu')\n",
        "        self.conv2 = Conv2D(64, (3, 3), activation = 'relu')\n",
        "        self.maxpooling = MaxPooling2D((2, 2))\n",
        "        self.flatten = Flatten()\n",
        "        self.dense = Dense(128, activation='relu')\n",
        "        self.dense2 = Dense(num_classes, activation = 'softmax')\n",
        "\n",
        "    def call(self, inputs):\n",
        "        # Define your forward pass here,\n",
        "        # using layers you previously defined (in `__init__`).\n",
        "        x = self.conv1(inputs)\n",
        "        x = self.conv2(x)\n",
        "        x = self.maxpooling(x)\n",
        "        x = self.flatten(x)\n",
        "        x = self.dense(x)\n",
        "        x = self.dense2(x)\n",
        "        return x\n",
        "\n",
        "model = MyModel(num_classes=10)\n",
        "model.compile(optimizer=RMSprop(), loss='categorical_crossentropy', metrics=['accuracy'])\n",
        "model1_result = model.fit(x_train, y_train, batch_size=32, epochs=10, validation_data = (x_test, y_test))"
      ],
      "execution_count": 23,
      "outputs": [
        {
          "output_type": "stream",
          "name": "stdout",
          "text": [
            "Epoch 1/10\n",
            "1875/1875 [==============================] - 9s 5ms/step - loss: 0.1067 - accuracy: 0.9676 - val_loss: 0.0381 - val_accuracy: 0.9875\n",
            "Epoch 2/10\n",
            "1875/1875 [==============================] - 8s 4ms/step - loss: 0.0401 - accuracy: 0.9875 - val_loss: 0.0378 - val_accuracy: 0.9871\n",
            "Epoch 3/10\n",
            "1875/1875 [==============================] - 9s 5ms/step - loss: 0.0283 - accuracy: 0.9918 - val_loss: 0.0408 - val_accuracy: 0.9878\n",
            "Epoch 4/10\n",
            "1875/1875 [==============================] - 9s 5ms/step - loss: 0.0225 - accuracy: 0.9932 - val_loss: 0.0389 - val_accuracy: 0.9883\n",
            "Epoch 5/10\n",
            "1875/1875 [==============================] - 9s 5ms/step - loss: 0.0190 - accuracy: 0.9944 - val_loss: 0.0442 - val_accuracy: 0.9900\n",
            "Epoch 6/10\n",
            "1875/1875 [==============================] - 9s 5ms/step - loss: 0.0162 - accuracy: 0.9957 - val_loss: 0.0452 - val_accuracy: 0.9902\n",
            "Epoch 7/10\n",
            "1875/1875 [==============================] - 9s 5ms/step - loss: 0.0136 - accuracy: 0.9967 - val_loss: 0.0527 - val_accuracy: 0.9893\n",
            "Epoch 8/10\n",
            "1875/1875 [==============================] - 8s 4ms/step - loss: 0.0117 - accuracy: 0.9970 - val_loss: 0.0682 - val_accuracy: 0.9870\n",
            "Epoch 9/10\n",
            "1875/1875 [==============================] - 9s 5ms/step - loss: 0.0114 - accuracy: 0.9970 - val_loss: 0.0604 - val_accuracy: 0.9909\n",
            "Epoch 10/10\n",
            "1875/1875 [==============================] - 8s 4ms/step - loss: 0.0098 - accuracy: 0.9977 - val_loss: 0.0751 - val_accuracy: 0.9871\n"
          ]
        }
      ]
    },
    {
      "cell_type": "markdown",
      "metadata": {
        "id": "fYDLWjdseB4H"
      },
      "source": [
        "### Zadanie 2 \n",
        "Na podstawie powyższego przykładu stwórz model bloku ResNet:\n",
        "- w warstwach konwolucyjnych wykorzystaj padding='same', aby rozmiary tensorów się nie zmieniały,\n",
        "- tego modelu nie trzeba budować i uczyć, zostanie on wykorzystany w kolejnym zadaniu."
      ]
    },
    {
      "cell_type": "markdown",
      "metadata": {
        "id": "RAvsPOz-GxjY"
      },
      "source": [
        "![resnet](https://miro.medium.com/max/1000/1*6HDuqhUzP92iXhHoS0Wl3w.png)"
      ]
    },
    {
      "cell_type": "code",
      "metadata": {
        "id": "6yZ8yKmbee44"
      },
      "source": [
        "class ResNetModel(Model):\n",
        "\n",
        "    def __init__(self):\n",
        "        super(ResNetModel, self).__init__(name='resnet_model')\n",
        "        self.conv1 = Conv2D(64, (3, 3), padding = 'same', activation = 'relu')\n",
        "        self.conv2 = Conv2D(64, (3, 3), padding = 'same')\n",
        "\n",
        "    def call(self, inputs):\n",
        "        # Define your forward pass here,\n",
        "        # using layers you previously defined (in `__init__`).\n",
        "        x = self.conv1(inputs)\n",
        "        x = self.conv2(x)\n",
        "        x = x + inputs\n",
        "        x = K.relu(x)\n",
        "        return x"
      ],
      "execution_count": 24,
      "outputs": []
    },
    {
      "cell_type": "markdown",
      "metadata": {
        "id": "prwjaEv2efs3"
      },
      "source": [
        "### Zadanie 3\n",
        "Zmodyfikuj model z zadania 1, zamieniając warstwy konwolucyjne na dwa modele bloku ResNet z zadania 2."
      ]
    },
    {
      "cell_type": "code",
      "metadata": {
        "id": "BGQr50EafxSH",
        "colab": {
          "base_uri": "https://localhost:8080/"
        },
        "outputId": "663e9aa3-4c21-4458-aff6-e156f05fffb1"
      },
      "source": [
        "class MyModel2(Model):\n",
        "\n",
        "    def __init__(self, num_classes=10):\n",
        "        super(MyModel2, self).__init__(name='my_model2')\n",
        "        self.num_classes = num_classes\n",
        "        self.resnet1 = ResNetModel()\n",
        "        self.resnet2 = ResNetModel()\n",
        "        self.maxpooling = MaxPooling2D((2, 2))\n",
        "        self.flatten = Flatten()\n",
        "        self.dense = Dense(128, activation='relu')\n",
        "        self.dense2 = Dense(num_classes, activation = 'softmax')\n",
        "\n",
        "    def call(self, inputs):\n",
        "        # Define your forward pass here,\n",
        "        # using layers you previously defined (in `__init__`).\n",
        "        x = self.resnet1(inputs)\n",
        "        x = self.resnet2(x)\n",
        "        x = self.maxpooling(x)\n",
        "        x = self.flatten(x)\n",
        "        x = self.dense(x)\n",
        "        x = self.dense2(x)\n",
        "        return x\n",
        "\n",
        "model = MyModel2(num_classes=10)\n",
        "model.compile(optimizer=RMSprop(), loss='categorical_crossentropy', metrics=['accuracy'])\n",
        "model.fit(x_train, y_train, batch_size=32, epochs=10, validation_data = (x_test, y_test))"
      ],
      "execution_count": 25,
      "outputs": [
        {
          "output_type": "stream",
          "name": "stdout",
          "text": [
            "Epoch 1/10\n",
            "1875/1875 [==============================] - 17s 9ms/step - loss: 0.1168 - accuracy: 0.9667 - val_loss: 0.0419 - val_accuracy: 0.9861\n",
            "Epoch 2/10\n",
            "1875/1875 [==============================] - 16s 9ms/step - loss: 0.0461 - accuracy: 0.9865 - val_loss: 0.0458 - val_accuracy: 0.9851\n",
            "Epoch 3/10\n",
            "1875/1875 [==============================] - 17s 9ms/step - loss: 0.0374 - accuracy: 0.9898 - val_loss: 0.0428 - val_accuracy: 0.9879\n",
            "Epoch 4/10\n",
            "1875/1875 [==============================] - 16s 9ms/step - loss: 0.0331 - accuracy: 0.9912 - val_loss: 0.0451 - val_accuracy: 0.9871\n",
            "Epoch 5/10\n",
            "1875/1875 [==============================] - 16s 9ms/step - loss: 0.0286 - accuracy: 0.9928 - val_loss: 0.0565 - val_accuracy: 0.9864\n",
            "Epoch 6/10\n",
            "1875/1875 [==============================] - 16s 9ms/step - loss: 0.0234 - accuracy: 0.9938 - val_loss: 0.0551 - val_accuracy: 0.9870\n",
            "Epoch 7/10\n",
            "1875/1875 [==============================] - 18s 10ms/step - loss: 0.0215 - accuracy: 0.9944 - val_loss: 0.0761 - val_accuracy: 0.9880\n",
            "Epoch 8/10\n",
            "1875/1875 [==============================] - 16s 9ms/step - loss: 0.0198 - accuracy: 0.9951 - val_loss: 0.0482 - val_accuracy: 0.9908\n",
            "Epoch 9/10\n",
            "1875/1875 [==============================] - 17s 9ms/step - loss: 0.0189 - accuracy: 0.9958 - val_loss: 0.0588 - val_accuracy: 0.9894\n",
            "Epoch 10/10\n",
            "1875/1875 [==============================] - 19s 10ms/step - loss: 0.0168 - accuracy: 0.9961 - val_loss: 0.0654 - val_accuracy: 0.9867\n"
          ]
        },
        {
          "output_type": "execute_result",
          "data": {
            "text/plain": [
              "<keras.callbacks.History at 0x7fb4024bddc0>"
            ]
          },
          "metadata": {},
          "execution_count": 25
        }
      ]
    },
    {
      "cell_type": "markdown",
      "metadata": {
        "id": "_3sOaUu3b77l"
      },
      "source": [
        "### Zadanie 4\n",
        "Wykorzystując Keras Subclassing API, napisz Autoenkoder dla zbioru danych MNIST.\n",
        "- stwórz osobny model Enkodera,\n",
        "- stwórz osobny model Dekodera,\n",
        "- połącz oba modele celem zbudowania Autoenkodera,\n",
        "- można korzystać z warstw gęstych, nie trzeba korzystać z konwolucji,\n",
        "- poprzednie zadania były przykładem klasyfikacji, w których wykorzystywana była funkcja błędu categorical_crossentropy (która jest stosowana dla wektorów reprezentujących rozkład prawdopodobieństwa), w przypadku Autoenkoderów model rekonstruuje dane wejściowe, więc najłatwiej wykorzystać mean square error (mse),\n",
        "- w związku z powyższym również wyjście sieci się różni, nie klasyfikujemy (y_train) tylko rekonstruujemy (x_train)\n",
        "\n",
        "https://blog.keras.io/building-autoencoders-in-keras.html"
      ]
    },
    {
      "cell_type": "code",
      "metadata": {
        "id": "Kyu4YijDcA13",
        "colab": {
          "base_uri": "https://localhost:8080/"
        },
        "outputId": "b44a1eb5-2476-418e-991a-d759dd9c9e4c"
      },
      "source": [
        "class Encoder(Model):\n",
        "    def __init__(self):\n",
        "        super(Encoder, self).__init__(name='encoder')\n",
        "        self.dense1 = Dense(128, activation='relu')\n",
        "        self.dense2 = Dense(64, activation='relu')\n",
        "        self.dense3 = Dense(32, activation='relu')\n",
        "\n",
        "    def call(self, inputs):\n",
        "        # Define your forward pass here,\n",
        "        # using layers you previously defined (in `__init__`).\n",
        "        x = self.dense1(inputs)\n",
        "        x = self.dense2(x)\n",
        "        x = self.dense3(x)\n",
        "        return x\n",
        "\n",
        "class Decoder(Model):\n",
        "    def __init__(self):\n",
        "        super(Decoder, self).__init__(name='decoder')\n",
        "        self.dense1 = Dense(64, activation='relu')\n",
        "        self.dense2 = Dense(128, activation='relu')\n",
        "        self.dense3 = Dense(784, activation='sigmoid')\n",
        "\n",
        "    def call(self, inputs):\n",
        "        # Define your forward pass here,\n",
        "        # using layers you previously defined (in `__init__`).\n",
        "        x = self.dense1(inputs)\n",
        "        x = self.dense2(x)\n",
        "        x = self.dense3(x)\n",
        "        return x\n",
        "\n",
        "class AutoEncoder(Model):\n",
        "    def __init__(self):\n",
        "        super(AutoEncoder, self).__init__(name='autoencoder')\n",
        "        self.encoder = Encoder()\n",
        "        self.decoder = Decoder()\n",
        "\n",
        "    def call(self, inputs):\n",
        "        # Define your forward pass here,\n",
        "        # using layers you previously defined (in `__init__`).\n",
        "        x = self.encoder(inputs)\n",
        "        x = self.decoder(x)\n",
        "        return x\n",
        "\n",
        "model = AutoEncoder()\n",
        "model.compile(optimizer='adam', loss='mse', metrics=['accuracy'])\n",
        "model.fit(x_train_reshaped, x_train_reshaped, batch_size=256, epochs=10, shuffle = True, validation_data = (x_test_reshaped, x_test_reshaped))"
      ],
      "execution_count": 11,
      "outputs": [
        {
          "output_type": "stream",
          "name": "stdout",
          "text": [
            "Epoch 1/10\n",
            "235/235 [==============================] - 2s 6ms/step - loss: 0.0647 - accuracy: 0.0071 - val_loss: 0.0372 - val_accuracy: 0.0078\n",
            "Epoch 2/10\n",
            "235/235 [==============================] - 1s 5ms/step - loss: 0.0308 - accuracy: 0.0115 - val_loss: 0.0256 - val_accuracy: 0.0130\n",
            "Epoch 3/10\n",
            "235/235 [==============================] - 1s 5ms/step - loss: 0.0235 - accuracy: 0.0129 - val_loss: 0.0209 - val_accuracy: 0.0133\n",
            "Epoch 4/10\n",
            "235/235 [==============================] - 1s 5ms/step - loss: 0.0202 - accuracy: 0.0125 - val_loss: 0.0186 - val_accuracy: 0.0124\n",
            "Epoch 5/10\n",
            "235/235 [==============================] - 1s 5ms/step - loss: 0.0183 - accuracy: 0.0121 - val_loss: 0.0172 - val_accuracy: 0.0114\n",
            "Epoch 6/10\n",
            "235/235 [==============================] - 1s 5ms/step - loss: 0.0170 - accuracy: 0.0107 - val_loss: 0.0160 - val_accuracy: 0.0096\n",
            "Epoch 7/10\n",
            "235/235 [==============================] - 1s 5ms/step - loss: 0.0160 - accuracy: 0.0109 - val_loss: 0.0152 - val_accuracy: 0.0097\n",
            "Epoch 8/10\n",
            "235/235 [==============================] - 1s 5ms/step - loss: 0.0152 - accuracy: 0.0112 - val_loss: 0.0145 - val_accuracy: 0.0086\n",
            "Epoch 9/10\n",
            "235/235 [==============================] - 1s 5ms/step - loss: 0.0146 - accuracy: 0.0107 - val_loss: 0.0140 - val_accuracy: 0.0099\n",
            "Epoch 10/10\n",
            "235/235 [==============================] - 1s 5ms/step - loss: 0.0140 - accuracy: 0.0112 - val_loss: 0.0135 - val_accuracy: 0.0121\n"
          ]
        },
        {
          "output_type": "execute_result",
          "data": {
            "text/plain": [
              "<keras.callbacks.History at 0x7fb4bc27f370>"
            ]
          },
          "metadata": {},
          "execution_count": 11
        }
      ]
    },
    {
      "cell_type": "code",
      "source": [
        "from tensorflow.keras.layers import UpSampling2D\n",
        "\n",
        "class EncoderConv(Model):\n",
        "    def __init__(self):\n",
        "        super(Encoder, self).__init__(name='encoder')\n",
        "        self.conv1 = Conv2D(16, (3, 3), activation='relu', padding='same')\n",
        "        self.pooling1 = MaxPooling2D((2,2), padding='same')\n",
        "        self.conv2 = Conv2D(8, (3, 3), activation='relu', padding='same')\n",
        "        self.pooling2 = MaxPooling2D((2,2), padding='same')\n",
        "        self.conv3 = Conv2D(8, (3, 3), activation='relu', padding='same')\n",
        "        self.pooling3 = MaxPooling2D((2,2), padding='same')\n",
        "\n",
        "    def call(self, inputs):\n",
        "        # Define your forward pass here,\n",
        "        # using layers you previously defined (in `__init__`).\n",
        "        x = self.conv1(inputs)\n",
        "        x = self.pooling1(x)\n",
        "        x = self.conv2(x)\n",
        "        x = self.pooling2(x)\n",
        "        x = self.conv3(x)\n",
        "        x = self.pooling3(x)\n",
        "        return x\n",
        "\n",
        "class DecoderConv(Model):\n",
        "    def __init__(self):\n",
        "        super(Decoder, self).__init__(name='decoder')\n",
        "        self.conv1 = Conv2D(8, (3, 3), activation='relu', padding='same')\n",
        "        self.sampling1 = UpSampling2D((2,2))\n",
        "        self.conv2 = Conv2D(8, (3, 3), activation='relu', padding='same')\n",
        "        self.sampling2 = UpSampling2D((2,2))\n",
        "        self.conv3 = Conv2D(16, (3, 3), activation='relu')\n",
        "        self.sampling3 = UpSampling2D((2,2))\n",
        "        self.conv4 = Conv2D(1, (3, 3), activation='sigmoid', padding='same')\n",
        "\n",
        "    def call(self, inputs):\n",
        "        # Define your forward pass here,\n",
        "        # using layers you previously defined (in `__init__`).\n",
        "        x = self.conv1(inputs)\n",
        "        x = self.sampling1(x)\n",
        "        x = self.conv2(x)\n",
        "        x = self.sampling2(x)\n",
        "        x = self.conv3(x)\n",
        "        x = self.sampling3(x)\n",
        "        x = self.conv4(x)\n",
        "        return x\n",
        "\n",
        "class AutoEncoderConv(Model):\n",
        "    def __init__(self):\n",
        "        super(AutoEncoder, self).__init__(name='autoencoder')\n",
        "        self.encoder = EncoderConv()\n",
        "        self.decoder = DecoderConv()\n",
        "\n",
        "    def call(self, inputs):\n",
        "        # Define your forward pass here,\n",
        "        # using layers you previously defined (in `__init__`).\n",
        "        x = self.encoder(inputs)\n",
        "        x = self.decoder(x)\n",
        "        return x\n",
        "\n",
        "model = AutoEncoder()\n",
        "model.compile(optimizer='adadelta', loss='mse', metrics=['accuracy'])\n",
        "model.fit(x_train, x_train, batch_size=32, epochs=10, shuffle = True, validation_data = (x_test, x_test))"
      ],
      "metadata": {
        "colab": {
          "base_uri": "https://localhost:8080/"
        },
        "id": "Epv3o5CxEXRl",
        "outputId": "7c77382a-cbf9-493e-9eec-8eaec9cf991c"
      },
      "execution_count": 12,
      "outputs": [
        {
          "output_type": "stream",
          "name": "stdout",
          "text": [
            "Epoch 1/10\n",
            "1875/1875 [==============================] - 48s 25ms/step - loss: 0.2313 - accuracy: 8.6943e-04 - val_loss: 0.2313 - val_accuracy: 0.0000e+00\n",
            "Epoch 2/10\n",
            "1875/1875 [==============================] - 46s 24ms/step - loss: 0.2312 - accuracy: 0.0000e+00 - val_loss: 0.2312 - val_accuracy: 0.0000e+00\n",
            "Epoch 3/10\n",
            "1875/1875 [==============================] - 46s 24ms/step - loss: 0.2311 - accuracy: 0.0000e+00 - val_loss: 0.2311 - val_accuracy: 0.0000e+00\n",
            "Epoch 4/10\n",
            "1875/1875 [==============================] - 46s 24ms/step - loss: 0.2310 - accuracy: 0.0000e+00 - val_loss: 0.2310 - val_accuracy: 0.0000e+00\n",
            "Epoch 5/10\n",
            "1875/1875 [==============================] - 46s 25ms/step - loss: 0.2309 - accuracy: 0.0000e+00 - val_loss: 0.2309 - val_accuracy: 0.0000e+00\n",
            "Epoch 6/10\n",
            "1875/1875 [==============================] - 46s 24ms/step - loss: 0.2308 - accuracy: 0.0000e+00 - val_loss: 0.2308 - val_accuracy: 0.0000e+00\n",
            "Epoch 7/10\n",
            "1875/1875 [==============================] - 46s 25ms/step - loss: 0.2307 - accuracy: 0.0000e+00 - val_loss: 0.2307 - val_accuracy: 0.0000e+00\n",
            "Epoch 8/10\n",
            "1875/1875 [==============================] - 46s 24ms/step - loss: 0.2306 - accuracy: 0.0000e+00 - val_loss: 0.2307 - val_accuracy: 0.0000e+00\n",
            "Epoch 9/10\n",
            "1875/1875 [==============================] - 46s 24ms/step - loss: 0.2305 - accuracy: 0.0000e+00 - val_loss: 0.2306 - val_accuracy: 0.0000e+00\n",
            "Epoch 10/10\n",
            "1875/1875 [==============================] - 46s 24ms/step - loss: 0.2304 - accuracy: 0.0000e+00 - val_loss: 0.2305 - val_accuracy: 0.0000e+00\n"
          ]
        },
        {
          "output_type": "execute_result",
          "data": {
            "text/plain": [
              "<keras.callbacks.History at 0x7fb4bc1a09d0>"
            ]
          },
          "metadata": {},
          "execution_count": 12
        }
      ]
    },
    {
      "cell_type": "markdown",
      "metadata": {
        "id": "agFLqb3bUHNh"
      },
      "source": [
        "## Regularyzacja\n",
        "### Zadanie 5\n",
        "Rozszerz model stworzony w zadaniu 1 o dwie warstwy Dropout (Dropout - https://keras.io/api/layers/regularization_layers/dropout/):\n",
        "- jedna po warstwie MaxPooling (wartość współczynnika odrzucenia 0.25)\n",
        "- druga po gęstej warstwie ukrytej (Dense), wartość współczynnika odrzucenia 0.5.\n",
        "\n",
        "  \n",
        "\n",
        "\n",
        "\n"
      ]
    },
    {
      "cell_type": "code",
      "metadata": {
        "id": "EFqCcx1ZYMMt",
        "colab": {
          "base_uri": "https://localhost:8080/"
        },
        "outputId": "1d42b62f-480b-4635-98e8-bac4e974e6d9"
      },
      "source": [
        "class MyModel3(Model):\n",
        "\n",
        "    def __init__(self, num_classes=10):\n",
        "        super(MyModel3, self).__init__(name='my_model3')\n",
        "        self.num_classes = num_classes\n",
        "        self.conv1 = Conv2D(32, (3, 3), activation = 'relu')\n",
        "        self.conv2 = Conv2D(64, (3, 3), activation = 'relu')\n",
        "        self.maxpooling = MaxPooling2D((2, 2))\n",
        "        self.dropout1 = Dropout(0.25)\n",
        "        self.flatten = Flatten()\n",
        "        self.dense = Dense(128, activation='relu')\n",
        "        self.dropout2 = Dropout(0.5)\n",
        "        self.dense2 = Dense(num_classes, activation = 'softmax')\n",
        "\n",
        "    def call(self, inputs):\n",
        "        # Define your forward pass here,\n",
        "        # using layers you previously defined (in `__init__`).\n",
        "        x = self.conv1(inputs)\n",
        "        x = self.conv2(x)\n",
        "        x = self.maxpooling(x)\n",
        "        x = self.dropout1(x)\n",
        "        x = self.flatten(x)\n",
        "        x = self.dense(x)\n",
        "        x = self.dropout2(x)\n",
        "        x = self.dense2(x)\n",
        "        return x\n",
        "\n",
        "model = MyModel3(num_classes=10)\n",
        "model.compile(optimizer=RMSprop(), loss='categorical_crossentropy', metrics=['accuracy'])\n",
        "model5_result = model.fit(x_train, y_train, batch_size=32, epochs=10, validation_data = (x_test, y_test))"
      ],
      "execution_count": 26,
      "outputs": [
        {
          "output_type": "stream",
          "name": "stdout",
          "text": [
            "Epoch 1/10\n",
            "1875/1875 [==============================] - 11s 5ms/step - loss: 0.1738 - accuracy: 0.9478 - val_loss: 0.0497 - val_accuracy: 0.9842\n",
            "Epoch 2/10\n",
            "1875/1875 [==============================] - 10s 5ms/step - loss: 0.0873 - accuracy: 0.9750 - val_loss: 0.0462 - val_accuracy: 0.9853\n",
            "Epoch 3/10\n",
            "1875/1875 [==============================] - 9s 5ms/step - loss: 0.0811 - accuracy: 0.9775 - val_loss: 0.0476 - val_accuracy: 0.9852\n",
            "Epoch 4/10\n",
            "1875/1875 [==============================] - 8s 5ms/step - loss: 0.0828 - accuracy: 0.9773 - val_loss: 0.0565 - val_accuracy: 0.9839\n",
            "Epoch 5/10\n",
            "1875/1875 [==============================] - 10s 5ms/step - loss: 0.0862 - accuracy: 0.9762 - val_loss: 0.0512 - val_accuracy: 0.9851\n",
            "Epoch 6/10\n",
            "1875/1875 [==============================] - 9s 5ms/step - loss: 0.0882 - accuracy: 0.9759 - val_loss: 0.0529 - val_accuracy: 0.9855\n",
            "Epoch 7/10\n",
            "1875/1875 [==============================] - 11s 6ms/step - loss: 0.0928 - accuracy: 0.9746 - val_loss: 0.0580 - val_accuracy: 0.9848\n",
            "Epoch 8/10\n",
            "1875/1875 [==============================] - 10s 6ms/step - loss: 0.0914 - accuracy: 0.9758 - val_loss: 0.0527 - val_accuracy: 0.9851\n",
            "Epoch 9/10\n",
            "1875/1875 [==============================] - 12s 6ms/step - loss: 0.0960 - accuracy: 0.9752 - val_loss: 0.0690 - val_accuracy: 0.9811\n",
            "Epoch 10/10\n",
            "1875/1875 [==============================] - 9s 5ms/step - loss: 0.1025 - accuracy: 0.9747 - val_loss: 0.0697 - val_accuracy: 0.9830\n"
          ]
        }
      ]
    },
    {
      "cell_type": "markdown",
      "metadata": {
        "id": "_WgmXVZ0YSVg"
      },
      "source": [
        "### Zadanie 6\n",
        "Rozszerz model stworzony w zadaniu 1 o dwie warstwy Batch normalization (BatchNormalization - https://keras.io/layers/normalization/) po warstwach konwolucyjnych."
      ]
    },
    {
      "cell_type": "code",
      "metadata": {
        "id": "bcmlyYOpYUyy",
        "colab": {
          "base_uri": "https://localhost:8080/"
        },
        "outputId": "4821c9b5-1005-4d39-f4c8-52780a3c320e"
      },
      "source": [
        "class MyModel4(Model):\n",
        "\n",
        "    def __init__(self, num_classes=10):\n",
        "        super(MyModel4, self).__init__(name='my_model4')\n",
        "        self.num_classes = num_classes\n",
        "        self.conv1 = Conv2D(32, (3, 3), activation = 'relu')\n",
        "        self.batch1 = BatchNormalization()\n",
        "        self.conv2 = Conv2D(64, (3, 3), activation = 'relu')\n",
        "        self.batch2 = BatchNormalization()\n",
        "        self.maxpooling = MaxPooling2D((2, 2))\n",
        "        self.flatten = Flatten()\n",
        "        self.dense = Dense(128, activation='relu')\n",
        "        self.dense2 = Dense(num_classes, activation = 'softmax')\n",
        "\n",
        "    def call(self, inputs):\n",
        "        # Define your forward pass here,\n",
        "        # using layers you previously defined (in `__init__`).\n",
        "        x = self.conv1(inputs)\n",
        "        x = self.batch1(x)\n",
        "        x = self.conv2(x)\n",
        "        x = self.batch2(x)\n",
        "        x = self.maxpooling(x)\n",
        "        x = self.flatten(x)\n",
        "        x = self.dense(x)\n",
        "        x = self.dense2(x)\n",
        "        return x\n",
        "\n",
        "model = MyModel4(num_classes=10)\n",
        "model.compile(optimizer=RMSprop(), loss='categorical_crossentropy', metrics=['accuracy'])\n",
        "model6_result = model.fit(x_train, y_train, batch_size=32, epochs=10, validation_data = (x_test, y_test))"
      ],
      "execution_count": 27,
      "outputs": [
        {
          "output_type": "stream",
          "name": "stdout",
          "text": [
            "Epoch 1/10\n",
            "1875/1875 [==============================] - 10s 5ms/step - loss: 0.2136 - accuracy: 0.9572 - val_loss: 0.0851 - val_accuracy: 0.9813\n",
            "Epoch 2/10\n",
            "1875/1875 [==============================] - 11s 6ms/step - loss: 0.0858 - accuracy: 0.9836 - val_loss: 0.0905 - val_accuracy: 0.9827\n",
            "Epoch 3/10\n",
            "1875/1875 [==============================] - 12s 6ms/step - loss: 0.0534 - accuracy: 0.9894 - val_loss: 0.0693 - val_accuracy: 0.9885\n",
            "Epoch 4/10\n",
            "1875/1875 [==============================] - 12s 6ms/step - loss: 0.0358 - accuracy: 0.9926 - val_loss: 0.0664 - val_accuracy: 0.9876\n",
            "Epoch 5/10\n",
            "1875/1875 [==============================] - 9s 5ms/step - loss: 0.0247 - accuracy: 0.9947 - val_loss: 0.0907 - val_accuracy: 0.9865\n",
            "Epoch 6/10\n",
            "1875/1875 [==============================] - 11s 6ms/step - loss: 0.0224 - accuracy: 0.9949 - val_loss: 0.1014 - val_accuracy: 0.9845\n",
            "Epoch 7/10\n",
            "1875/1875 [==============================] - 10s 5ms/step - loss: 0.0169 - accuracy: 0.9965 - val_loss: 0.1043 - val_accuracy: 0.9880\n",
            "Epoch 8/10\n",
            "1875/1875 [==============================] - 11s 6ms/step - loss: 0.0134 - accuracy: 0.9970 - val_loss: 0.1042 - val_accuracy: 0.9882\n",
            "Epoch 9/10\n",
            "1875/1875 [==============================] - 13s 7ms/step - loss: 0.0095 - accuracy: 0.9980 - val_loss: 0.0949 - val_accuracy: 0.9899\n",
            "Epoch 10/10\n",
            "1875/1875 [==============================] - 9s 5ms/step - loss: 0.0085 - accuracy: 0.9981 - val_loss: 0.1431 - val_accuracy: 0.9876\n"
          ]
        }
      ]
    },
    {
      "cell_type": "markdown",
      "metadata": {
        "id": "sp4DmjC8YVl_"
      },
      "source": [
        "### Zadanie 7\n",
        "Rozszerz model stworzony w zadaniu 1 o warstwy z zadań 5 i 6."
      ]
    },
    {
      "cell_type": "code",
      "metadata": {
        "id": "2yDqgHMGYZZd",
        "colab": {
          "base_uri": "https://localhost:8080/"
        },
        "outputId": "e2964153-a8f6-452e-fb95-1824d8933482"
      },
      "source": [
        "class MyModel5(Model):\n",
        "\n",
        "    def __init__(self, num_classes=10):\n",
        "        super(MyModel5, self).__init__(name='my_model5')\n",
        "        self.num_classes = num_classes\n",
        "        self.conv1 = Conv2D(32, (3, 3), activation = 'relu')\n",
        "        self.batch1 = BatchNormalization()\n",
        "        self.conv2 = Conv2D(64, (3, 3), activation = 'relu')\n",
        "        self.batch2 = BatchNormalization()\n",
        "        self.maxpooling = MaxPooling2D((2, 2))\n",
        "        self.dropout1 = Dropout(0.25)\n",
        "        self.flatten = Flatten()\n",
        "        self.dense = Dense(128, activation='relu')\n",
        "        self.dropout2 = Dropout(0.5)\n",
        "        self.dense2 = Dense(num_classes, activation = 'softmax')\n",
        "\n",
        "    def call(self, inputs):\n",
        "        # Define your forward pass here,\n",
        "        # using layers you previously defined (in `__init__`).\n",
        "        x = self.conv1(inputs)\n",
        "        x = self.batch1(x)\n",
        "        x = self.conv2(x)\n",
        "        x = self.batch2(x)\n",
        "        x = self.maxpooling(x)\n",
        "        x = self.dropout1(x)\n",
        "        x = self.flatten(x)\n",
        "        x = self.dense(x)\n",
        "        x = self.dropout2(x)\n",
        "        x = self.dense2(x)\n",
        "        return x\n",
        "\n",
        "model = MyModel5(num_classes=10)\n",
        "model.compile(optimizer=RMSprop(), loss='categorical_crossentropy', metrics=['accuracy'])\n",
        "model7_result = model.fit(x_train, y_train, batch_size=32, epochs=10, validation_data = (x_test, y_test))"
      ],
      "execution_count": 28,
      "outputs": [
        {
          "output_type": "stream",
          "name": "stdout",
          "text": [
            "Epoch 1/10\n",
            "1875/1875 [==============================] - 11s 5ms/step - loss: 0.4166 - accuracy: 0.9101 - val_loss: 0.1629 - val_accuracy: 0.9693\n",
            "Epoch 2/10\n",
            "1875/1875 [==============================] - 9s 5ms/step - loss: 0.2149 - accuracy: 0.9566 - val_loss: 0.0783 - val_accuracy: 0.9813\n",
            "Epoch 3/10\n",
            "1875/1875 [==============================] - 11s 6ms/step - loss: 0.1884 - accuracy: 0.9630 - val_loss: 0.0936 - val_accuracy: 0.9826\n",
            "Epoch 4/10\n",
            "1875/1875 [==============================] - 10s 5ms/step - loss: 0.1522 - accuracy: 0.9686 - val_loss: 0.0587 - val_accuracy: 0.9853\n",
            "Epoch 5/10\n",
            "1875/1875 [==============================] - 11s 6ms/step - loss: 0.1298 - accuracy: 0.9715 - val_loss: 0.0539 - val_accuracy: 0.9862\n",
            "Epoch 6/10\n",
            "1875/1875 [==============================] - 12s 7ms/step - loss: 0.1218 - accuracy: 0.9724 - val_loss: 0.0472 - val_accuracy: 0.9873\n",
            "Epoch 7/10\n",
            "1875/1875 [==============================] - 9s 5ms/step - loss: 0.1100 - accuracy: 0.9742 - val_loss: 0.0567 - val_accuracy: 0.9858\n",
            "Epoch 8/10\n",
            "1875/1875 [==============================] - 10s 5ms/step - loss: 0.0964 - accuracy: 0.9762 - val_loss: 0.0446 - val_accuracy: 0.9873\n",
            "Epoch 9/10\n",
            "1875/1875 [==============================] - 10s 5ms/step - loss: 0.0876 - accuracy: 0.9781 - val_loss: 0.0648 - val_accuracy: 0.9859\n",
            "Epoch 10/10\n",
            "1875/1875 [==============================] - 11s 6ms/step - loss: 0.0845 - accuracy: 0.9792 - val_loss: 0.0528 - val_accuracy: 0.9869\n"
          ]
        }
      ]
    },
    {
      "cell_type": "markdown",
      "metadata": {
        "id": "GoruuRfaYMqZ"
      },
      "source": [
        "### Zadanie 8 \n",
        "Porównaj modele stworzone w zadaniach 1, 5, 6, 7 na zbiorze danych MNIST. Stwórz wykresy z przebiegiem błędu funkcji celu i trafności klasyfikacji dla zbioru treningowego i walidacyjnego.\n",
        "Cztery wykresy:\n",
        "- błąd funkcji celu dla zbioru treningowego,\n",
        "- błąd funkcji celu dla zbioru walidacyjnego,\n",
        "- trafność klasyfikacji dla zbioru treningowego,\n",
        "- trafność klasyfikacji dla zbioru walidacyjnego\n",
        "\n",
        "Na każdym wykresie powinny być 4 przebiegi dla modeli z wszystkich zadań (1, 5, 6, 7), tak by łatwo można je było ze sobą wizualnie porównać.\n"
      ]
    },
    {
      "cell_type": "code",
      "source": [
        "import matplotlib.pyplot as plt\n",
        "\n",
        "fig, axs = plt.subplots(2, 2, figsize=(12, 8), sharex=True)\n",
        "\n",
        "axs[0, 0].plot(model1_result.history['loss'], label='Model 1')\n",
        "axs[0, 0].plot(model5_result.history['loss'], label='Model 5')\n",
        "axs[0, 0].plot(model6_result.history['loss'], label='Model 6')\n",
        "axs[0, 0].plot(model7_result.history['loss'], label='Model 7')\n",
        "axs[0, 0].set_title(\"Błąd funkcji celu dla zbioru treningowego\")\n",
        "axs[0, 0].set_ylabel('loss')\n",
        "axs[0, 0].set_xlabel('epoch')\n",
        "axs[0, 0].legend(['Zwykły model', 'Dropout', 'Batch normalization', 'Dropout, Batch normalization'])\n",
        "\n",
        "axs[0, 1].plot(model1_result.history['val_loss'], label='Model 1')\n",
        "axs[0, 1].plot(model5_result.history['val_loss'], label='Model 5')\n",
        "axs[0, 1].plot(model6_result.history['val_loss'], label='Model 6')\n",
        "axs[0, 1].plot(model7_result.history['val_loss'], label='Model 7')\n",
        "axs[0, 1].set_title(\"Błąd funkcji celu dla zbioru walidacyjnego\")\n",
        "axs[0, 1].set_ylabel('val_loss')\n",
        "axs[0, 1].set_xlabel('epoch')\n",
        "axs[0, 1].legend(['Zwykły model', 'Dropout', 'Batch normalization', 'Dropout, Batch normalization'])\n",
        "\n",
        "axs[1, 0].plot(model1_result.history['accuracy'], label='Model 1')\n",
        "axs[1, 0].plot(model5_result.history['accuracy'], label='Model 5')\n",
        "axs[1, 0].plot(model6_result.history['accuracy'], label='Model 6')\n",
        "axs[1, 0].plot(model7_result.history['accuracy'], label='Model 7')\n",
        "axs[1, 0].set_title(\"Trafność klasyfikacji dla zbioru treningowego\")\n",
        "axs[1, 0].set_ylabel('accuracy')\n",
        "axs[1, 0].set_xlabel('epoch')\n",
        "axs[1, 0].legend(['Zwykły model', 'Dropout', 'Batch normalization', 'Dropout, Batch normalization'])\n",
        "\n",
        "axs[1, 1].plot(model1_result.history['val_accuracy'], label='Model 1')\n",
        "axs[1, 1].plot(model5_result.history['val_accuracy'], label='Model 5')\n",
        "axs[1, 1].plot(model6_result.history['val_accuracy'], label='Model 6')\n",
        "axs[1, 1].plot(model7_result.history['val_accuracy'], label='Model 7')\n",
        "axs[1, 1].set_title(\"Trafność klasyfikacji dla zbioru walidacyjnego\")\n",
        "axs[1, 1].set_ylabel('val_accuracy')\n",
        "axs[1, 1].set_xlabel('epoch')\n",
        "axs[1, 1].legend(['Zwykły model', 'Dropout', 'Batch normalization', 'Dropout, Batch normalization'])\n",
        "\n",
        "fig.tight_layout()"
      ],
      "metadata": {
        "colab": {
          "base_uri": "https://localhost:8080/",
          "height": 582
        },
        "id": "xj-JUzvPTV3A",
        "outputId": "f493e7a8-306a-44fe-8fec-6a948bff84c9"
      },
      "execution_count": 33,
      "outputs": [
        {
          "output_type": "display_data",
          "data": {
            "text/plain": [
              "<Figure size 864x576 with 4 Axes>"
            ],
            "image/png": "[encoded data removed]"
          },
          "metadata": {
            "needs_background": "light"
          }
        }
      ]
    }
  ]
}